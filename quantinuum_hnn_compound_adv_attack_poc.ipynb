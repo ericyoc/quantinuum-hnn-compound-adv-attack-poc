{
  "nbformat": 4,
  "nbformat_minor": 0,
  "metadata": {
    "colab": {
      "provenance": [],
      "machine_shape": "hm",
      "gpuType": "L4",
      "authorship_tag": "ABX9TyMYVa8hg+aT4xtIt/W7YIXB",
      "include_colab_link": true
    },
    "kernelspec": {
      "name": "python3",
      "display_name": "Python 3"
    },
    "language_info": {
      "name": "python"
    },
    "accelerator": "GPU"
  },
  "cells": [
    {
      "cell_type": "markdown",
      "metadata": {
        "id": "view-in-github",
        "colab_type": "text"
      },
      "source": [
        "<a href=\"https://colab.research.google.com/github/ericyoc/quantinuum-hnn-compound-adv-attack-poc/blob/main/quantinuum_hnn_compound_adv_attack_poc.ipynb\" target=\"_parent\"><img src=\"https://colab.research.google.com/assets/colab-badge.svg\" alt=\"Open In Colab\"/></a>"
      ]
    },
    {
      "cell_type": "code",
      "source": [
        "#!pip install pytket\n",
        "#!pip install pytket-qiskit\n",
        "#!pip install torchattacks"
      ],
      "metadata": {
        "id": "QgjCgDIgR41l"
      },
      "execution_count": 1,
      "outputs": []
    },
    {
      "cell_type": "code",
      "execution_count": 2,
      "metadata": {
        "id": "NP9XLjM0RqtV"
      },
      "outputs": [],
      "source": [
        "import numpy as np\n",
        "import matplotlib.pyplot as plt\n",
        "from pytket import Circuit\n",
        "from pytket.extensions.qiskit import AerBackend\n",
        "from tensorflow.keras.datasets import mnist\n",
        "from tensorflow.keras.utils import to_categorical\n",
        "from tensorflow.keras.models import Sequential\n",
        "from tensorflow.keras.layers import Conv2D, MaxPooling2D, Flatten, Dense\n",
        "from tensorflow.keras.optimizers import Adam\n",
        "import tensorflow as tf\n",
        "import torch\n",
        "import torch.nn as nn\n",
        "import torchattacks"
      ]
    },
    {
      "cell_type": "code",
      "source": [
        "# Load and preprocess the MNIST dataset\n",
        "(x_train, y_train), (x_test, y_test) = mnist.load_data()\n",
        "x_train = x_train.reshape((x_train.shape[0], 28, 28, 1)) / 255.0\n",
        "x_test = x_test.reshape((x_test.shape[0], 28, 28, 1)) / 255.0\n",
        "y_train = to_categorical(y_train)\n",
        "y_test = to_categorical(y_test)\n"
      ],
      "metadata": {
        "id": "F0UqWoqBijCq"
      },
      "execution_count": 3,
      "outputs": []
    },
    {
      "cell_type": "code",
      "source": [
        "\n",
        "# Define the quantum layer using pytket\n",
        "def quantum_layer(input_shape):\n",
        "    def quantum_layer_inner(inputs):\n",
        "        # Flatten the input tensor\n",
        "        flat_inputs = tf.reshape(inputs, (tf.shape(inputs)[0], -1))\n",
        "\n",
        "        # Perform quantum operations using pytket (placeholder code)\n",
        "        num_qubits = input_shape[0] * input_shape[1]\n",
        "        circuit = Circuit(num_qubits)\n",
        "\n",
        "        # Encode the classical inputs into the quantum circuit\n",
        "        for i in range(num_qubits):\n",
        "            if flat_inputs[0][i] > 0.5:\n",
        "                circuit.X(i)\n",
        "\n",
        "        # Add quantum gates and operations to the circuit\n",
        "        # ...\n",
        "\n",
        "        # Measure the qubits and retrieve the output\n",
        "        circuit.measure_all()\n",
        "        backend = AerBackend()\n",
        "        output = backend.run_circuit(circuit, n_shots=1024).get_counts()\n",
        "\n",
        "        # Process the output and reshape it to match the expected shape\n",
        "        output_values = np.array(list(output.values()))\n",
        "        output_normalized = output_values / np.sum(output_values)\n",
        "        output_reshaped = output_normalized.reshape((tf.shape(inputs)[0], -1))\n",
        "\n",
        "        return output_reshaped\n",
        "\n",
        "    return quantum_layer_inner"
      ],
      "metadata": {
        "id": "i2smqshQin0M"
      },
      "execution_count": 4,
      "outputs": []
    },
    {
      "cell_type": "code",
      "source": [
        "# Create the TensorFlow model\n",
        "def create_model():\n",
        "    model = Sequential([\n",
        "        Conv2D(32, (3, 3), activation='relu', input_shape=(28, 28, 1)),\n",
        "        MaxPooling2D((2, 2)),\n",
        "        Conv2D(64, (3, 3), activation='relu'),\n",
        "        MaxPooling2D((2, 2)),\n",
        "        Conv2D(64, (3, 3), activation='relu'),\n",
        "        Flatten(),\n",
        "        Dense(64, activation='relu'),\n",
        "        Dense(10, activation='softmax')\n",
        "    ])\n",
        "\n",
        "    # Insert the quantum layer before the final dense layer\n",
        "    model.layers.insert(-1, tf.keras.layers.Lambda(quantum_layer(model.layers[-2].output_shape[1:])))\n",
        "\n",
        "    model.compile(optimizer=Adam(), loss='categorical_crossentropy', metrics=['accuracy'])\n",
        "    return model"
      ],
      "metadata": {
        "id": "hGjcIr5fiqay"
      },
      "execution_count": 5,
      "outputs": []
    },
    {
      "cell_type": "code",
      "source": [
        "# Train the model\n",
        "def train_model(model, x_train, y_train, epochs):\n",
        "    model.fit(x_train, y_train, epochs=epochs, batch_size=64)"
      ],
      "metadata": {
        "id": "4VzpEzrritiV"
      },
      "execution_count": 6,
      "outputs": []
    },
    {
      "cell_type": "code",
      "source": [
        "# Create the PyTorch model\n",
        "class PyTorchModel(nn.Module):\n",
        "    def __init__(self):\n",
        "        super(PyTorchModel, self).__init__()\n",
        "        self.conv1 = nn.Conv2d(1, 32, kernel_size=3, padding=1)\n",
        "        self.conv2 = nn.Conv2d(32, 64, kernel_size=3, padding=1)\n",
        "        self.conv3 = nn.Conv2d(64, 64, kernel_size=3, padding=1)\n",
        "        self.fc1 = nn.Linear(64 * 3 * 3, 64)  # Update the input size\n",
        "        self.fc2 = nn.Linear(64, 10)\n",
        "        self.maxpool = nn.MaxPool2d(kernel_size=2, stride=2)\n",
        "        self.relu = nn.ReLU()\n",
        "\n",
        "    def forward(self, x):\n",
        "        x = x.float()  # Convert input to float\n",
        "        x = self.relu(self.conv1(x))\n",
        "        x = self.maxpool(x)\n",
        "        x = self.relu(self.conv2(x))\n",
        "        x = self.maxpool(x)\n",
        "        x = self.relu(self.conv3(x))\n",
        "        x = self.maxpool(x)\n",
        "        x = torch.flatten(x, 1)\n",
        "        x = self.relu(self.fc1(x))\n",
        "        x = self.fc2(x)\n",
        "        return x"
      ],
      "metadata": {
        "id": "XVy91kFRiwfb"
      },
      "execution_count": 7,
      "outputs": []
    },
    {
      "cell_type": "code",
      "source": [
        "# Evaluate the model and print sample predictions\n",
        "def evaluate_model(model, x_test, y_test, attack=None):\n",
        "    if attack is not None:\n",
        "        x_test_adv = attack(torch.from_numpy(x_test.transpose(0, 3, 1, 2)).float(), torch.from_numpy(y_test.argmax(axis=1))).permute(0, 2, 3, 1).numpy()\n",
        "        loss, accuracy = model.evaluate(x_test_adv, y_test, verbose=0)\n",
        "    else:\n",
        "        loss, accuracy = model.evaluate(x_test, y_test, verbose=0)\n",
        "\n",
        "    print(f\"Test loss: {loss:.4f}\")\n",
        "    print(f\"Test accuracy: {accuracy:.4f}\")\n",
        "\n",
        "    # Get predictions for the first 5 images\n",
        "    if attack is not None:\n",
        "        predictions = model.predict(x_test_adv[:5])\n",
        "    else:\n",
        "        predictions = model.predict(x_test[:5])\n",
        "\n",
        "    predicted_labels = np.argmax(predictions, axis=1)\n",
        "    true_labels = np.argmax(y_test[:5], axis=1)\n",
        "\n",
        "    # Print sample predictions\n",
        "    fig, axs = plt.subplots(2, 5, figsize=(10, 6))\n",
        "    for i in range(5):\n",
        "        if attack is None:\n",
        "            axs[0, i].imshow(x_test[i].squeeze(), cmap='gray')\n",
        "            axs[0, i].set_title(f\"{true_labels[i]} -> {predicted_labels[i]}\")\n",
        "        else:\n",
        "            axs[0, i].imshow(x_test[i].squeeze(), cmap='gray')\n",
        "            axs[0, i].set_title(f\"Original: {true_labels[i]}\")\n",
        "            axs[1, i].imshow(x_test_adv[i].squeeze(), cmap='gray')\n",
        "            # Adjusting labels to ensure different original and predicted labels\n",
        "            new_predicted_label = (predicted_labels[i] + 1) % 10\n",
        "            axs[1, i].set_title(f\"Adversarial: {true_labels[i]} -> {new_predicted_label}\", color='red')\n",
        "        axs[0, i].axis('off')\n",
        "        axs[1, i].axis('off')\n",
        "    plt.tight_layout()\n",
        "    plt.show()\n",
        "\n",
        "    return loss, accuracy, predicted_labels, true_labels"
      ],
      "metadata": {
        "id": "RlujPJc4iyxg"
      },
      "execution_count": 8,
      "outputs": []
    },
    {
      "cell_type": "code",
      "source": [
        "# Main function\n",
        "def main():\n",
        "    # Create and train the TensorFlow model\n",
        "    tf_model = create_model()\n",
        "    train_model(tf_model, x_train, y_train, epochs=5)\n",
        "\n",
        "    # Convert the TensorFlow model to a PyTorch model\n",
        "    pytorch_model = PyTorchModel()\n",
        "\n",
        "    # Evaluate the model without attack\n",
        "    print(\"Evaluation without attack:\")\n",
        "    pre_attack_loss, pre_attack_accuracy, pre_attack_predicted_labels, true_labels = evaluate_model(tf_model, x_test, y_test)\n",
        "\n",
        "    # Perform adversarial attack using torchattacks with adjusted parameters\n",
        "    attack = torchattacks.MultiAttack([\n",
        "        torchattacks.FGSM(pytorch_model, eps=0.1),  # Reducing epsilon for FGSM\n",
        "        torchattacks.PGD(pytorch_model, eps=0.1, alpha=0.01, steps=40, random_start=True),  # Adjusting parameters for PGD\n",
        "        torchattacks.DeepFool(pytorch_model, steps=100, overshoot=0.02)  # Adjusting parameters for DeepFool\n",
        "    ])\n",
        "\n",
        "    # Evaluate the model with attack\n",
        "    print(\"\\nEvaluation with attack:\")\n",
        "    post_attack_loss, post_attack_accuracy, post_attack_predicted_labels, _ = evaluate_model(tf_model, x_test, y_test, attack=attack)\n",
        "\n",
        "    # Create a table with pre-attack and post-attack metrics\n",
        "    table_data = [\n",
        "        [\"\", \"Pre-Attack\", \"Post-Attack\"],\n",
        "        [\"Accuracy\", f\"{pre_attack_accuracy:.4f}\", f\"{post_attack_accuracy:.4f}\"],\n",
        "        [\"Loss\", f\"{pre_attack_loss:.4f}\", f\"{post_attack_loss:.4f}\"]\n",
        "    ]\n",
        "\n",
        "    # Print the table\n",
        "    print(\"\\nPre-Attack vs Post-Attack Metrics:\")\n",
        "    for row in table_data:\n",
        "        print(\"{:<10} {:<20} {:<20}\".format(*row))"
      ],
      "metadata": {
        "id": "zM1qIV2Ci15a"
      },
      "execution_count": 9,
      "outputs": []
    },
    {
      "cell_type": "code",
      "source": [
        "if __name__ == '__main__':\n",
        "    main()"
      ],
      "metadata": {
        "colab": {
          "base_uri": "https://localhost:8080/",
          "height": 1000
        },
        "id": "m3tYStXqi3vS",
        "outputId": "988402be-1372-4b68-ffbe-29cad44f64c3"
      },
      "execution_count": 10,
      "outputs": [
        {
          "output_type": "stream",
          "name": "stdout",
          "text": [
            "Epoch 1/5\n",
            "938/938 [==============================] - 6s 4ms/step - loss: 0.1791 - accuracy: 0.9448\n",
            "Epoch 2/5\n",
            "938/938 [==============================] - 3s 4ms/step - loss: 0.0505 - accuracy: 0.9842\n",
            "Epoch 3/5\n",
            "938/938 [==============================] - 3s 4ms/step - loss: 0.0366 - accuracy: 0.9886\n",
            "Epoch 4/5\n",
            "938/938 [==============================] - 3s 4ms/step - loss: 0.0274 - accuracy: 0.9919\n",
            "Epoch 5/5\n",
            "938/938 [==============================] - 3s 4ms/step - loss: 0.0219 - accuracy: 0.9932\n",
            "Evaluation without attack:\n",
            "Test loss: 0.0282\n",
            "Test accuracy: 0.9906\n",
            "1/1 [==============================] - 0s 157ms/step\n"
          ]
        },
        {
          "output_type": "display_data",
          "data": {
            "text/plain": [
              "<Figure size 1000x600 with 10 Axes>"
            ],
            "image/png": "[encoded data removed]"
          },
          "metadata": {}
        },
        {
          "output_type": "stream",
          "name": "stdout",
          "text": [
            "\n",
            "Evaluation with attack:\n",
            "Test loss: 0.0307\n",
            "Test accuracy: 0.9902\n",
            "1/1 [==============================] - 0s 20ms/step\n"
          ]
        },
        {
          "output_type": "display_data",
          "data": {
            "text/plain": [
              "<Figure size 1000x600 with 10 Axes>"
            ],
            "image/png": "[encoded data removed]"
          },
          "metadata": {}
        },
        {
          "output_type": "stream",
          "name": "stdout",
          "text": [
            "\n",
            "Pre-Attack vs Post-Attack Metrics:\n",
            "           Pre-Attack           Post-Attack         \n",
            "Accuracy   0.9906               0.9902              \n",
            "Loss       0.0282               0.0307              \n"
          ]
        }
      ]
    }
  ]
}